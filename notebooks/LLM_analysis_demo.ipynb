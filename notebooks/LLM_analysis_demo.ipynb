# 🤖 LLM Analysis Demo

This notebook demonstrates how an LLM (like GPT-4) can analyze GitHub-leaked content and extract actionable bug bounty recon insights.
# Install if not already
!pip install openai
# Set up OpenAI key (use dotenv or environment var in real use)
import os
import openai

openai.api_key = os.getenv("OPENAI_API_KEY")
assert openai.api_key, "OPENAI_API_KEY not found in environment variables."

# Load the GitHub leak data
with open("output/github_leaks.txt", "r") as f:
    github_content = f.read()

print(github_content[:500])  # show preview

# Define the LLM prompt and send to OpenAI
prompt = (
    "You are a cybersecurity analyst helping with bug bounty reconnaissance. "
    "Extract the most relevant keywords, technologies, domains, parameters, and suspicious patterns from the following input:\n\n"
    + github_content +
    "\n\nReturn the result as a bullet list."
)

response = openai.ChatCompletion.create(
    model="gpt-4",
    messages=[
        {"role": "system", "content": "You are a helpful assistant for bug bounty recon."},
        {"role": "user", "content": prompt}
    ]
)

## ✅ Result

This is what the LLM generated as recon-relevant insights from the GitHub leaks.

from IPython.display import Markdown
Markdown(response['choices'][0]['message']['content'])

